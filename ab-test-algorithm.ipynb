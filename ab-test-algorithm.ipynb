{
 "cells": [
  {
   "cell_type": "markdown",
   "metadata": {
    "id": "u98L9TgH0eMk"
   },
   "source": [
    "# Разработка A/B-тестирования и анализ результатов\n"
   ]
  },
  {
   "cell_type": "markdown",
   "metadata": {
    "id": "LJBRALHs0eMf"
   },
   "source": [
    "## Введение\n",
    "\n",
    "\n",
    "**Цель**: рассчитать параметры теста, оценить корректность его проведения и проанализировать результаты эксперимента.\n",
    "\n",
    "**Задачи:**  \n",
    "1. Загрузить и исследовать исторические данные.  \n",
    "2. Определить целевую метрику и рассчитать параметры теста — размер выборки, длительность и мощность.  \n",
    "3. Проверить корректность распределения пользователей по группам и независимость выборок.  \n",
    "4. Провести анализ результатов A/B-теста и оценить статистическую значимость различий.  \n",
    "5. Сделать выводы и дать рекомендации по внедрению изменений.\n",
    "\n",
    "**Описание данных**\n",
    "\n",
    "Используются три таблицы:\n",
    "\n",
    "- `sessions_project_history.csv` — таблица с историческими данными по сессиям пользователей на период с 2025-08-11 по 2025-09-23. \n",
    "\n",
    "- `sessions_project_test_part.csv` — таблица с данными за первый день проведения A/B-теста, то есть за 2025-10-14. \n",
    "\n",
    "- `sessions_project_test.csv` — таблица с данными за весь период проведения A/B-теста, то есть с 2025-10-14 по 2025-11-02. \n",
    "\n",
    "У этих таблиц почти совпадает структура и содержание колонок, различаются лишь периоды наблюдения.\n",
    "\n",
    "Поля таблиц `sessions_project_history.csv`, `sessions_project_test.csv`, `sessions_project_test_part.csv`:\n",
    "\n",
    "- `user_id` — идентификатор пользователя;\n",
    "\n",
    "- `session_id` — идентификатор сессии в приложении;\n",
    "\n",
    "- `session_date` — дата сессии;\n",
    "\n",
    "- `session_start_ts` — дата и время начала сессии;\n",
    "\n",
    "- `install_date` — дата установки приложения;\n",
    "\n",
    "- `session_number` — порядковый номер сессии для конкретного пользователя;\n",
    "\n",
    "- `registration_flag` — является ли пользователь зарегистрированным;\n",
    "\n",
    "- `page_counter` — количество просмотренных страниц во время сессии;\n",
    "\n",
    "- `region` — регион пользователя;\n",
    "\n",
    "- `device` — тип устройства пользователя;\n",
    "\n",
    "- `test_group` — тестовая группа (в таблице с историческими данными этого столбца нет).\n",
    "\n",
    "**Содержание проекта**\n",
    "\n",
    "1. Введение\n",
    "2. EDA и анализ исторических данных\n",
    "3. Планирование эксперимента\n",
    "4. Мониторинг и корректность теста\n",
    "5. Проверка результатов"
   ]
  },
  {
   "cell_type": "markdown",
   "metadata": {
    "id": "UpOucjID0eMl"
   },
   "source": [
    "### Работа с историческими данными (EDA)"
   ]
  },
  {
   "cell_type": "markdown",
   "metadata": {
    "id": "8iJMtL-30eMl"
   },
   "source": [
    "#### Загрузка исторических данных\n",
    "\n",
    "Изучим исторические данные приложения:\n",
    "\n",
    "Импортируем библиотеки.\n",
    "\n",
    "Считаем и сохраним в датафрейм `sessions_history` CSV-файл с историческими данными о сессиях пользователей `sessions_project_history.csv`."
   ]
  },
  {
   "cell_type": "code",
   "execution_count": 1,
   "metadata": {},
   "outputs": [],
   "source": [
    "# Импорт библоиотек\n",
    "import pandas as pd\n",
    "import matplotlib.pyplot as plt\n",
    "from scipy.stats import ttest_ind\n",
    "from statsmodels.stats.proportion import proportions_ztest"
   ]
  },
  {
   "cell_type": "code",
   "execution_count": 2,
   "metadata": {
    "id": "6TPR2-1RPboT"
   },
   "outputs": [
    {
     "data": {
      "text/html": [
       "<div>\n",
       "<style scoped>\n",
       "    .dataframe tbody tr th:only-of-type {\n",
       "        vertical-align: middle;\n",
       "    }\n",
       "\n",
       "    .dataframe tbody tr th {\n",
       "        vertical-align: top;\n",
       "    }\n",
       "\n",
       "    .dataframe thead th {\n",
       "        text-align: right;\n",
       "    }\n",
       "</style>\n",
       "<table border=\"1\" class=\"dataframe\">\n",
       "  <thead>\n",
       "    <tr style=\"text-align: right;\">\n",
       "      <th></th>\n",
       "      <th>user_id</th>\n",
       "      <th>session_id</th>\n",
       "      <th>session_date</th>\n",
       "      <th>session_start_ts</th>\n",
       "      <th>install_date</th>\n",
       "      <th>session_number</th>\n",
       "      <th>registration_flag</th>\n",
       "      <th>page_counter</th>\n",
       "      <th>region</th>\n",
       "      <th>device</th>\n",
       "    </tr>\n",
       "  </thead>\n",
       "  <tbody>\n",
       "    <tr>\n",
       "      <th>0</th>\n",
       "      <td>E302123B7000BFE4</td>\n",
       "      <td>F9AF61A0C2023832</td>\n",
       "      <td>2025-08-15</td>\n",
       "      <td>2025-08-15 17:47:35</td>\n",
       "      <td>2025-08-15</td>\n",
       "      <td>1</td>\n",
       "      <td>0</td>\n",
       "      <td>3</td>\n",
       "      <td>CIS</td>\n",
       "      <td>iPhone</td>\n",
       "    </tr>\n",
       "    <tr>\n",
       "      <th>1</th>\n",
       "      <td>2530F72E221829FB</td>\n",
       "      <td>85003A206CBDAC6F</td>\n",
       "      <td>2025-08-15</td>\n",
       "      <td>2025-08-15 16:42:14</td>\n",
       "      <td>2025-08-15</td>\n",
       "      <td>1</td>\n",
       "      <td>0</td>\n",
       "      <td>4</td>\n",
       "      <td>MENA</td>\n",
       "      <td>Android</td>\n",
       "    </tr>\n",
       "    <tr>\n",
       "      <th>2</th>\n",
       "      <td>876E020A4FC512F5</td>\n",
       "      <td>3677423E49D72DEE</td>\n",
       "      <td>2025-08-15</td>\n",
       "      <td>2025-08-15 12:30:00</td>\n",
       "      <td>2025-08-15</td>\n",
       "      <td>1</td>\n",
       "      <td>0</td>\n",
       "      <td>4</td>\n",
       "      <td>EU</td>\n",
       "      <td>PC</td>\n",
       "    </tr>\n",
       "    <tr>\n",
       "      <th>3</th>\n",
       "      <td>2640B349E1D81584</td>\n",
       "      <td>956B45F5915CA225</td>\n",
       "      <td>2025-08-15</td>\n",
       "      <td>2025-08-15 15:31:31</td>\n",
       "      <td>2025-08-15</td>\n",
       "      <td>1</td>\n",
       "      <td>0</td>\n",
       "      <td>4</td>\n",
       "      <td>CIS</td>\n",
       "      <td>Android</td>\n",
       "    </tr>\n",
       "    <tr>\n",
       "      <th>4</th>\n",
       "      <td>94E1CBFAEF1F5EE9</td>\n",
       "      <td>83BF0DA35F9F1F40</td>\n",
       "      <td>2025-08-15</td>\n",
       "      <td>2025-08-15 21:33:53</td>\n",
       "      <td>2025-08-15</td>\n",
       "      <td>1</td>\n",
       "      <td>0</td>\n",
       "      <td>3</td>\n",
       "      <td>CIS</td>\n",
       "      <td>Android</td>\n",
       "    </tr>\n",
       "  </tbody>\n",
       "</table>\n",
       "</div>"
      ],
      "text/plain": [
       "            user_id        session_id session_date     session_start_ts  \\\n",
       "0  E302123B7000BFE4  F9AF61A0C2023832   2025-08-15  2025-08-15 17:47:35   \n",
       "1  2530F72E221829FB  85003A206CBDAC6F   2025-08-15  2025-08-15 16:42:14   \n",
       "2  876E020A4FC512F5  3677423E49D72DEE   2025-08-15  2025-08-15 12:30:00   \n",
       "3  2640B349E1D81584  956B45F5915CA225   2025-08-15  2025-08-15 15:31:31   \n",
       "4  94E1CBFAEF1F5EE9  83BF0DA35F9F1F40   2025-08-15  2025-08-15 21:33:53   \n",
       "\n",
       "  install_date  session_number  registration_flag  page_counter region  \\\n",
       "0   2025-08-15               1                  0             3    CIS   \n",
       "1   2025-08-15               1                  0             4   MENA   \n",
       "2   2025-08-15               1                  0             4     EU   \n",
       "3   2025-08-15               1                  0             4    CIS   \n",
       "4   2025-08-15               1                  0             3    CIS   \n",
       "\n",
       "    device  \n",
       "0   iPhone  \n",
       "1  Android  \n",
       "2       PC  \n",
       "3  Android  \n",
       "4  Android  "
      ]
     },
     "execution_count": 2,
     "metadata": {},
     "output_type": "execute_result"
    }
   ],
   "source": [
    "# Сохраняем данеые в датафрейм session_history\n",
    "sessions_history = pd.read_csv(\"D:\\sessions_project_history.csv\")\n",
    "\n",
    "# Выводим первые 5 строк\n",
    "sessions_history.head()"
   ]
  },
  {
   "cell_type": "markdown",
   "metadata": {
    "id": "qTDoiODz0eMo"
   },
   "source": [
    "#### Знакомство с данными"
   ]
  },
  {
   "cell_type": "code",
   "execution_count": 3,
   "metadata": {},
   "outputs": [
    {
     "data": {
      "text/html": [
       "<div>\n",
       "<style scoped>\n",
       "    .dataframe tbody tr th:only-of-type {\n",
       "        vertical-align: middle;\n",
       "    }\n",
       "\n",
       "    .dataframe tbody tr th {\n",
       "        vertical-align: top;\n",
       "    }\n",
       "\n",
       "    .dataframe thead th {\n",
       "        text-align: right;\n",
       "    }\n",
       "</style>\n",
       "<table border=\"1\" class=\"dataframe\">\n",
       "  <thead>\n",
       "    <tr style=\"text-align: right;\">\n",
       "      <th></th>\n",
       "      <th>user_id</th>\n",
       "      <th>session_id</th>\n",
       "    </tr>\n",
       "  </thead>\n",
       "  <tbody>\n",
       "    <tr>\n",
       "      <th>0</th>\n",
       "      <td>00005FB6A13A6FBE</td>\n",
       "      <td>2</td>\n",
       "    </tr>\n",
       "    <tr>\n",
       "      <th>1</th>\n",
       "      <td>0000B15A18D77ED9</td>\n",
       "      <td>3</td>\n",
       "    </tr>\n",
       "    <tr>\n",
       "      <th>2</th>\n",
       "      <td>0000C4E3A4A571A9</td>\n",
       "      <td>2</td>\n",
       "    </tr>\n",
       "    <tr>\n",
       "      <th>3</th>\n",
       "      <td>000293FAF9E67A81</td>\n",
       "      <td>4</td>\n",
       "    </tr>\n",
       "    <tr>\n",
       "      <th>4</th>\n",
       "      <td>00029C5AE889A6C3</td>\n",
       "      <td>2</td>\n",
       "    </tr>\n",
       "    <tr>\n",
       "      <th>...</th>\n",
       "      <td>...</td>\n",
       "      <td>...</td>\n",
       "    </tr>\n",
       "    <tr>\n",
       "      <th>134034</th>\n",
       "      <td>FFFCDE7746148710</td>\n",
       "      <td>4</td>\n",
       "    </tr>\n",
       "    <tr>\n",
       "      <th>134035</th>\n",
       "      <td>FFFDD413285E753F</td>\n",
       "      <td>3</td>\n",
       "    </tr>\n",
       "    <tr>\n",
       "      <th>134036</th>\n",
       "      <td>FFFECBA0F2578AB0</td>\n",
       "      <td>2</td>\n",
       "    </tr>\n",
       "    <tr>\n",
       "      <th>134037</th>\n",
       "      <td>FFFEDB68228B5F21</td>\n",
       "      <td>5</td>\n",
       "    </tr>\n",
       "    <tr>\n",
       "      <th>134038</th>\n",
       "      <td>FFFF4228DF580C3B</td>\n",
       "      <td>3</td>\n",
       "    </tr>\n",
       "  </tbody>\n",
       "</table>\n",
       "<p>134039 rows × 2 columns</p>\n",
       "</div>"
      ],
      "text/plain": [
       "                 user_id  session_id\n",
       "0       00005FB6A13A6FBE           2\n",
       "1       0000B15A18D77ED9           3\n",
       "2       0000C4E3A4A571A9           2\n",
       "3       000293FAF9E67A81           4\n",
       "4       00029C5AE889A6C3           2\n",
       "...                  ...         ...\n",
       "134034  FFFCDE7746148710           4\n",
       "134035  FFFDD413285E753F           3\n",
       "134036  FFFECBA0F2578AB0           2\n",
       "134037  FFFEDB68228B5F21           5\n",
       "134038  FFFF4228DF580C3B           3\n",
       "\n",
       "[134039 rows x 2 columns]"
      ]
     },
     "execution_count": 3,
     "metadata": {},
     "output_type": "execute_result"
    }
   ],
   "source": [
    "# Рассчитываем количество сессия для каждого пользователя\n",
    "sessions_history.groupby('user_id')['session_id'].count().reset_index()"
   ]
  },
  {
   "cell_type": "code",
   "execution_count": 4,
   "metadata": {
    "id": "PWZO9vTIPbPN"
   },
   "outputs": [
    {
     "data": {
      "text/html": [
       "<div>\n",
       "<style scoped>\n",
       "    .dataframe tbody tr th:only-of-type {\n",
       "        vertical-align: middle;\n",
       "    }\n",
       "\n",
       "    .dataframe tbody tr th {\n",
       "        vertical-align: top;\n",
       "    }\n",
       "\n",
       "    .dataframe thead th {\n",
       "        text-align: right;\n",
       "    }\n",
       "</style>\n",
       "<table border=\"1\" class=\"dataframe\">\n",
       "  <thead>\n",
       "    <tr style=\"text-align: right;\">\n",
       "      <th></th>\n",
       "      <th>user_id</th>\n",
       "      <th>session_id</th>\n",
       "      <th>session_date</th>\n",
       "      <th>session_start_ts</th>\n",
       "      <th>install_date</th>\n",
       "      <th>session_number</th>\n",
       "      <th>registration_flag</th>\n",
       "      <th>page_counter</th>\n",
       "      <th>region</th>\n",
       "      <th>device</th>\n",
       "    </tr>\n",
       "  </thead>\n",
       "  <tbody>\n",
       "    <tr>\n",
       "      <th>115558</th>\n",
       "      <td>10E0DEFC1ABDBBE0</td>\n",
       "      <td>B8F0423BBFFCF5DC</td>\n",
       "      <td>2025-08-14</td>\n",
       "      <td>2025-08-14 13:57:39</td>\n",
       "      <td>2025-08-14</td>\n",
       "      <td>1</td>\n",
       "      <td>0</td>\n",
       "      <td>4</td>\n",
       "      <td>CIS</td>\n",
       "      <td>Android</td>\n",
       "    </tr>\n",
       "    <tr>\n",
       "      <th>191751</th>\n",
       "      <td>10E0DEFC1ABDBBE0</td>\n",
       "      <td>87CA2FA549473837</td>\n",
       "      <td>2025-08-15</td>\n",
       "      <td>2025-08-15 16:42:10</td>\n",
       "      <td>2025-08-14</td>\n",
       "      <td>2</td>\n",
       "      <td>0</td>\n",
       "      <td>3</td>\n",
       "      <td>CIS</td>\n",
       "      <td>Android</td>\n",
       "    </tr>\n",
       "    <tr>\n",
       "      <th>239370</th>\n",
       "      <td>10E0DEFC1ABDBBE0</td>\n",
       "      <td>4ADD8011DCDCE318</td>\n",
       "      <td>2025-08-16</td>\n",
       "      <td>2025-08-16 19:53:21</td>\n",
       "      <td>2025-08-14</td>\n",
       "      <td>3</td>\n",
       "      <td>0</td>\n",
       "      <td>3</td>\n",
       "      <td>CIS</td>\n",
       "      <td>Android</td>\n",
       "    </tr>\n",
       "    <tr>\n",
       "      <th>274629</th>\n",
       "      <td>10E0DEFC1ABDBBE0</td>\n",
       "      <td>DF0FD0E09BF1F3D7</td>\n",
       "      <td>2025-08-17</td>\n",
       "      <td>2025-08-17 15:03:43</td>\n",
       "      <td>2025-08-14</td>\n",
       "      <td>4</td>\n",
       "      <td>0</td>\n",
       "      <td>1</td>\n",
       "      <td>CIS</td>\n",
       "      <td>Android</td>\n",
       "    </tr>\n",
       "    <tr>\n",
       "      <th>302501</th>\n",
       "      <td>10E0DEFC1ABDBBE0</td>\n",
       "      <td>3C221774B4DE6885</td>\n",
       "      <td>2025-08-18</td>\n",
       "      <td>2025-08-18 17:29:14</td>\n",
       "      <td>2025-08-14</td>\n",
       "      <td>5</td>\n",
       "      <td>0</td>\n",
       "      <td>4</td>\n",
       "      <td>CIS</td>\n",
       "      <td>Android</td>\n",
       "    </tr>\n",
       "    <tr>\n",
       "      <th>325557</th>\n",
       "      <td>10E0DEFC1ABDBBE0</td>\n",
       "      <td>031BD7A67048105B</td>\n",
       "      <td>2025-08-19</td>\n",
       "      <td>2025-08-19 13:23:55</td>\n",
       "      <td>2025-08-14</td>\n",
       "      <td>6</td>\n",
       "      <td>0</td>\n",
       "      <td>2</td>\n",
       "      <td>CIS</td>\n",
       "      <td>Android</td>\n",
       "    </tr>\n",
       "    <tr>\n",
       "      <th>345336</th>\n",
       "      <td>10E0DEFC1ABDBBE0</td>\n",
       "      <td>FF4315CF4AD4B100</td>\n",
       "      <td>2025-08-20</td>\n",
       "      <td>2025-08-20 19:31:54</td>\n",
       "      <td>2025-08-14</td>\n",
       "      <td>7</td>\n",
       "      <td>0</td>\n",
       "      <td>2</td>\n",
       "      <td>CIS</td>\n",
       "      <td>Android</td>\n",
       "    </tr>\n",
       "    <tr>\n",
       "      <th>377532</th>\n",
       "      <td>10E0DEFC1ABDBBE0</td>\n",
       "      <td>4045FEA0747203B4</td>\n",
       "      <td>2025-08-22</td>\n",
       "      <td>2025-08-22 17:54:13</td>\n",
       "      <td>2025-08-14</td>\n",
       "      <td>8</td>\n",
       "      <td>0</td>\n",
       "      <td>2</td>\n",
       "      <td>CIS</td>\n",
       "      <td>Android</td>\n",
       "    </tr>\n",
       "    <tr>\n",
       "      <th>403538</th>\n",
       "      <td>10E0DEFC1ABDBBE0</td>\n",
       "      <td>344B086C421C7F37</td>\n",
       "      <td>2025-08-24</td>\n",
       "      <td>2025-08-24 14:46:13</td>\n",
       "      <td>2025-08-14</td>\n",
       "      <td>9</td>\n",
       "      <td>0</td>\n",
       "      <td>2</td>\n",
       "      <td>CIS</td>\n",
       "      <td>Android</td>\n",
       "    </tr>\n",
       "    <tr>\n",
       "      <th>414743</th>\n",
       "      <td>10E0DEFC1ABDBBE0</td>\n",
       "      <td>054F20BA371E4C9D</td>\n",
       "      <td>2025-08-25</td>\n",
       "      <td>2025-08-25 18:36:41</td>\n",
       "      <td>2025-08-14</td>\n",
       "      <td>10</td>\n",
       "      <td>0</td>\n",
       "      <td>3</td>\n",
       "      <td>CIS</td>\n",
       "      <td>Android</td>\n",
       "    </tr>\n",
       "  </tbody>\n",
       "</table>\n",
       "</div>"
      ],
      "text/plain": [
       "                 user_id        session_id session_date     session_start_ts  \\\n",
       "115558  10E0DEFC1ABDBBE0  B8F0423BBFFCF5DC   2025-08-14  2025-08-14 13:57:39   \n",
       "191751  10E0DEFC1ABDBBE0  87CA2FA549473837   2025-08-15  2025-08-15 16:42:10   \n",
       "239370  10E0DEFC1ABDBBE0  4ADD8011DCDCE318   2025-08-16  2025-08-16 19:53:21   \n",
       "274629  10E0DEFC1ABDBBE0  DF0FD0E09BF1F3D7   2025-08-17  2025-08-17 15:03:43   \n",
       "302501  10E0DEFC1ABDBBE0  3C221774B4DE6885   2025-08-18  2025-08-18 17:29:14   \n",
       "325557  10E0DEFC1ABDBBE0  031BD7A67048105B   2025-08-19  2025-08-19 13:23:55   \n",
       "345336  10E0DEFC1ABDBBE0  FF4315CF4AD4B100   2025-08-20  2025-08-20 19:31:54   \n",
       "377532  10E0DEFC1ABDBBE0  4045FEA0747203B4   2025-08-22  2025-08-22 17:54:13   \n",
       "403538  10E0DEFC1ABDBBE0  344B086C421C7F37   2025-08-24  2025-08-24 14:46:13   \n",
       "414743  10E0DEFC1ABDBBE0  054F20BA371E4C9D   2025-08-25  2025-08-25 18:36:41   \n",
       "\n",
       "       install_date  session_number  registration_flag  page_counter region  \\\n",
       "115558   2025-08-14               1                  0             4    CIS   \n",
       "191751   2025-08-14               2                  0             3    CIS   \n",
       "239370   2025-08-14               3                  0             3    CIS   \n",
       "274629   2025-08-14               4                  0             1    CIS   \n",
       "302501   2025-08-14               5                  0             4    CIS   \n",
       "325557   2025-08-14               6                  0             2    CIS   \n",
       "345336   2025-08-14               7                  0             2    CIS   \n",
       "377532   2025-08-14               8                  0             2    CIS   \n",
       "403538   2025-08-14               9                  0             2    CIS   \n",
       "414743   2025-08-14              10                  0             3    CIS   \n",
       "\n",
       "         device  \n",
       "115558  Android  \n",
       "191751  Android  \n",
       "239370  Android  \n",
       "274629  Android  \n",
       "302501  Android  \n",
       "325557  Android  \n",
       "345336  Android  \n",
       "377532  Android  \n",
       "403538  Android  \n",
       "414743  Android  "
      ]
     },
     "execution_count": 4,
     "metadata": {},
     "output_type": "execute_result"
    }
   ],
   "source": [
    "# Выводим все данные о пользователе с наибольшим количеством посещений\n",
    "sessions_history[sessions_history['user_id'] == sessions_history.groupby('user_id')['session_id'].count().idxmax()]"
   ]
  },
  {
   "cell_type": "markdown",
   "metadata": {
    "id": "CmcGpJTP0eMq"
   },
   "source": [
    "#### Анализ числа регистраций\n",
    "\n",
    "Одна из важнейших метрик продукта — число зарегистрированных пользователей. Используя исторические данные, посмотрим, как менялось число регистраций в приложении за время его существования."
   ]
  },
  {
   "cell_type": "code",
   "execution_count": 5,
   "metadata": {
    "id": "tN_6Ml3EPatS"
   },
   "outputs": [
    {
     "data": {
      "image/png": "[encoded data removed]",
      "text/plain": [
       "<Figure size 1224x504 with 1 Axes>"
      ]
     },
     "metadata": {
      "needs_background": "light"
     },
     "output_type": "display_data"
    }
   ],
   "source": [
    "# Считаем количество уникальных незарегистрированных пользователей по дням\n",
    "unregistrated_users_count = sessions_history[sessions_history['registration_flag'] == 0].groupby('session_date')['user_id'].nunique()\n",
    "\n",
    "# Считаем количество уникальных зарегистрированных пользователей по дням\n",
    "registrated_users_count = sessions_history[sessions_history['registration_flag'] == 1].groupby('session_date')['user_id'].nunique()\n",
    "\n",
    "# Задаем размер графика\n",
    "plt.figure(figsize = (17, 7))\n",
    "\n",
    "# Строим графики количества уникальных пользователей по дням\n",
    "plt.plot(sessions_history['session_date'].unique(), unregistrated_users_count, label = 'Количество незарегистрированных пользователей')\n",
    "plt.plot(sessions_history['session_date'].unique(), registrated_users_count, label = 'Количество зарегистрированных пользователей')\n",
    "\n",
    "# Настраиваем оформление графика\n",
    "plt.legend()\n",
    "plt.xticks(rotation = 45)\n",
    "plt.grid()\n",
    "plt.title('Сравнение динамик зарегистрированных/незарегистрированных пользователей по дням')\n",
    "plt.xlabel('Дата')\n",
    "plt.ylabel('Количество пользователей')\n",
    "plt.show()"
   ]
  },
  {
   "cell_type": "code",
   "execution_count": 6,
   "metadata": {},
   "outputs": [
    {
     "data": {
      "image/png": "[encoded data removed]",
      "text/plain": [
       "<Figure size 1224x504 with 1 Axes>"
      ]
     },
     "metadata": {
      "needs_background": "light"
     },
     "output_type": "display_data"
    }
   ],
   "source": [
    "# Считаем долю уникальных зарегистрированных пользователей по дням\n",
    "registrated_part = sessions_history[sessions_history['registration_flag'] == 1].groupby('session_date')['user_id'].nunique() / sessions_history.groupby('session_date')['user_id'].nunique() * 100\n",
    "\n",
    "# Задаем размер графика\n",
    "plt.figure(figsize = (17, 7))\n",
    "\n",
    "# Строим график процента уникальных пользователей по дням\n",
    "plt.plot(sessions_history['session_date'].unique(), registrated_part, label = 'Процент зарегистрированных пользователей')\n",
    "\n",
    "# Настраиваем оформление графика\n",
    "plt.legend()\n",
    "plt.xticks(rotation = 45)\n",
    "plt.grid()\n",
    "plt.title('Динамика процента зарегистрированных пользователей по дням')\n",
    "plt.xlabel('Дата')\n",
    "plt.ylabel('Процент пользователей')\n",
    "plt.show()"
   ]
  },
  {
   "cell_type": "markdown",
   "metadata": {
    "id": "UR7D7RhF0eMr"
   },
   "source": [
    "#### Анализ числа просмотренных страниц\n",
    "\n",
    "Другая важная метрика продукта — число просмотренных страниц в приложении. Чем больше страниц просмотрено, тем сильнее пользователь увлечён контентом, а значит, выше шансы, что он зарегистрируется и оплатит подписку."
   ]
  },
  {
   "cell_type": "code",
   "execution_count": 7,
   "metadata": {
    "id": "cb6hPlVzPaSf"
   },
   "outputs": [
    {
     "name": "stdout",
     "output_type": "stream",
     "text": [
      "   page_counter  session_id\n",
      "0             1       29160\n",
      "1             2      105536\n",
      "2             3      166690\n",
      "3             4      105569\n",
      "4             5       26288\n",
      "5             6        2589\n",
      "6             7          92\n"
     ]
    }
   ],
   "source": [
    "# Рассчитываем количество сессий в зависимости от числа просмотренных страниц\n",
    "sessions_count = sessions_history.groupby('page_counter')['session_id'].nunique().reset_index()\n",
    "\n",
    "print(sessions_count)"
   ]
  },
  {
   "cell_type": "code",
   "execution_count": 8,
   "metadata": {},
   "outputs": [
    {
     "data": {
      "text/plain": [
       "<AxesSubplot:title={'center':'Количество сессий в зависимости от количества просмотренных страниц'}, xlabel='Количество просмотренных страниц', ylabel='Количество сессий'>"
      ]
     },
     "execution_count": 8,
     "metadata": {},
     "output_type": "execute_result"
    },
    {
     "data": {
      "image/png": "[encoded data removed]",
      "text/plain": [
       "<Figure size 1080x432 with 1 Axes>"
      ]
     },
     "metadata": {
      "needs_background": "light"
     },
     "output_type": "display_data"
    }
   ],
   "source": [
    "# Строим столбчатую диаграмму по количеству просмотренных страниц\n",
    "sessions_count.plot(\n",
    "    kind = 'bar',\n",
    "    x = 'page_counter',\n",
    "    y = 'session_id',\n",
    "    rot = 0,\n",
    "    legend = False,\n",
    "    xlabel = 'Количество просмотренных страниц',\n",
    "    ylabel = 'Количество сессий',\n",
    "    title = 'Количество сессий в зависимости от количества просмотренных страниц',\n",
    "    figsize = (15, 6)\n",
    ")"
   ]
  },
  {
   "cell_type": "markdown",
   "metadata": {
    "id": "xDltSpVP0eMr"
   },
   "source": [
    "#### Доля пользователей, просмотревших более четырёх страниц\n"
   ]
  },
  {
   "cell_type": "code",
   "execution_count": 9,
   "metadata": {
    "id": "iygaPfixPYMW"
   },
   "outputs": [],
   "source": [
    "# В столбец good_session записываем 0, если просмотрено менее 4 страниц, иначе 1\n",
    "sessions_history['good_session'] = 0\n",
    "sessions_history.loc[sessions_history['page_counter'] >= 4, 'good_session'] = 1"
   ]
  },
  {
   "cell_type": "code",
   "execution_count": 10,
   "metadata": {},
   "outputs": [
    {
     "data": {
      "image/png": "[encoded data removed]",
      "text/plain": [
       "<Figure size 1224x504 with 1 Axes>"
      ]
     },
     "metadata": {
      "needs_background": "light"
     },
     "output_type": "display_data"
    }
   ],
   "source": [
    "# Считаем успешных сессий по дням\n",
    "good_session_part = sessions_history.groupby('session_date')['good_session'].mean()\n",
    "\n",
    "# Задаем размер графика\n",
    "plt.figure(figsize = (17, 7))\n",
    "\n",
    "# Строим график доли успешных сессий по дням\n",
    "plt.plot(sessions_history['session_date'].unique(), good_session_part)\n",
    "\n",
    "# Настраиваем оформление графика\n",
    "plt.xticks(rotation = 45)\n",
    "plt.grid()\n",
    "plt.title('Динамика доли успешных сессий (>=4 просмотренных страницы) по дням')\n",
    "plt.xlabel('Дата')\n",
    "plt.ylabel('Доля успешных сессий')\n",
    "plt.show()"
   ]
  },
  {
   "cell_type": "markdown",
   "metadata": {
    "id": "21JcG77Y0eMt"
   },
   "source": [
    "### 2. Подготовка к тесту\n",
    "\n",
    "При планировании теста проделаем несколько важных шагов:\n",
    "\n",
    "- Сформулируем нулевую и альтернативную гипотезы\n",
    "\n",
    "- Определимся с целевой метрикой.\n",
    "\n",
    "- Рассчитаем необходимый размер выборки.\n",
    "\n",
    "- Исходя из текущих значений трафика рассчитаем необходимую длительность проведения теста."
   ]
  },
  {
   "cell_type": "markdown",
   "metadata": {
    "id": "kXdcwkjf859k"
   },
   "source": [
    "#### Формулировка нулевой и альтернативной гипотез\n"
   ]
  },
  {
   "cell_type": "markdown",
   "metadata": {},
   "source": [
    "**Ключевая метрика** - доля успешных сессий, где успешной считается сессия, в которой было просмотренно 4 и более страницы.\n",
    "\n",
    "**Нулевая гипотеза(Н0)**: Доля успешных сессий в группе с новым алгоритмом равна доле успешных сессий в контрольной группе.\n",
    "\n",
    "**Альтернативная гипотеза(Н1)**: Доля успешных сессий в группе с новым алгоритмом превышает долю успешных сессий в контрольной группе более чем на 3%."
   ]
  },
  {
   "cell_type": "markdown",
   "metadata": {
    "id": "uzaeln270eMt"
   },
   "source": [
    "#### Расчёт размера выборки\n",
    "\n",
    "Используем следующие параметры:\n",
    "\n",
    "- Уровень значимости — 0.05.\n",
    "\n",
    "- Вероятность ошибки второго рода — 0.2.\n",
    "\n",
    "- Мощность теста.\n",
    "\n",
    "- Минимальный детектируемый эффект, или MDE, — 3%. "
   ]
  },
  {
   "cell_type": "code",
   "execution_count": 11,
   "metadata": {
    "id": "zSxJyPGPNdaI"
   },
   "outputs": [
    {
     "name": "stdout",
     "output_type": "stream",
     "text": [
      "Необходимый размер выборки для каждой группы: 3759\n"
     ]
    }
   ],
   "source": [
    "from statsmodels.stats.power import NormalIndPower\n",
    "from statsmodels.stats.proportion import proportion_effectsize\n",
    "import numpy as np\n",
    "\n",
    "# Задаём параметры\n",
    "alpha = 0.05  # Уровень значимости\n",
    "beta = 0.2  # Ошибка второго рода, часто 1 - мощность\n",
    "power = 0.8  # Мощность теста\n",
    "p = 0.3 # Базовый уровень доли\n",
    "mde = 0.03   # Минимальный детектируемый эффект\n",
    "p1 = p + mde\n",
    "effect_size = (p1 - p) / np.sqrt((p*(1-p) + p1*(1-p1))/2)\n",
    "\n",
    "# Инициализируем класс NormalIndPower\n",
    "power_analysis = NormalIndPower()\n",
    "\n",
    "# Рассчитываем размер выборки\n",
    "sample_size = power_analysis.solve_power(\n",
    "    effect_size = effect_size,\n",
    "    power = power,\n",
    "    alpha = alpha,\n",
    "    ratio = 1 # Равномерное распределение выборок\n",
    ")\n",
    "\n",
    "print(f\"Необходимый размер выборки для каждой группы: {int(sample_size)}\")"
   ]
  },
  {
   "cell_type": "markdown",
   "metadata": {
    "id": "qLEv4RoV0eMu"
   },
   "source": [
    "#### Расчёт длительности A/B-теста\n",
    "\n",
    "Используем данные о количестве пользователей в каждой выборке и среднем количестве пользователей приложения. Рассчитаем длительность теста, разделив одно на другое."
   ]
  },
  {
   "cell_type": "code",
   "execution_count": 12,
   "metadata": {
    "id": "KZDRbryDOGHa"
   },
   "outputs": [
    {
     "name": "stdout",
     "output_type": "stream",
     "text": [
      "Рассчитанная длительность A/B-теста при текущем уровене трафика в 9907 пользователей в день составит 1 дней\n"
     ]
    }
   ],
   "source": [
    "from math import ceil\n",
    "\n",
    "# Среднее количество пользователей приложения в день по историческим данным\n",
    "avg_daily_users = round(sessions_history.groupby('session_date')['user_id'].nunique().mean())\n",
    "\n",
    "# Рассчитываем длительность теста в днях как отношение размера выборки к среднему числу пользователей\n",
    "test_duration = ceil(sample_size * 2 / avg_daily_users)\n",
    "\n",
    "print(f\"Рассчитанная длительность A/B-теста при текущем уровене трафика в {avg_daily_users} пользователей в день составит {test_duration} дней\")"
   ]
  },
  {
   "cell_type": "markdown",
   "metadata": {
    "id": "ZuvtAdha0eMv"
   },
   "source": [
    "### Мониторинг А/В-теста"
   ]
  },
  {
   "cell_type": "markdown",
   "metadata": {
    "id": "jq5sE3Ya0eMv"
   },
   "source": [
    "#### Проверка распределения пользователей"
   ]
  },
  {
   "cell_type": "code",
   "execution_count": 13,
   "metadata": {
    "id": "G1bqIzDJOUiz"
   },
   "outputs": [],
   "source": [
    "# Сохраняем данные в датафрейм sessions_test_part\n",
    "sessions_test_part = pd.read_csv(\"D:\\sessions_project_test_part.csv\")"
   ]
  },
  {
   "cell_type": "code",
   "execution_count": 14,
   "metadata": {},
   "outputs": [
    {
     "name": "stdout",
     "output_type": "stream",
     "text": [
      "Процентная разница в количестве пользователей в группах A и B за первый день эксперимента: 0.7448%\n"
     ]
    }
   ],
   "source": [
    "# Рассчитываем количество уникальных пользователей в каждой группе \n",
    "users_in_test_groups = sessions_test_part.groupby('test_group')['user_id'].nunique().T\n",
    "\n",
    "# Считаем процентную разницу в количестве пользователей разаных групп\n",
    "p = abs(users_in_test_groups['A'] - users_in_test_groups['B']) / users_in_test_groups['A'] * 100\n",
    "\n",
    "print(f'Процентная разница в количестве пользователей в группах A и B за первый день эксперимента: {round(p, 4)}%')"
   ]
  },
  {
   "cell_type": "code",
   "execution_count": 15,
   "metadata": {},
   "outputs": [
    {
     "data": {
      "image/png": "[encoded data removed]",
      "text/plain": [
       "<Figure size 432x288 with 1 Axes>"
      ]
     },
     "metadata": {},
     "output_type": "display_data"
    }
   ],
   "source": [
    "# Строим круговую диаграмму\n",
    "plt.pie([users_in_test_groups['A'], users_in_test_groups['B']], labels = ['A', 'B'], autopct = '%1.1f%%')\n",
    "\n",
    "plt.title('Распределение пользователей по группам в первый день эксперимента')\n",
    "plt.show()"
   ]
  },
  {
   "cell_type": "markdown",
   "metadata": {
    "id": "sgpNY5bv0eM0"
   },
   "source": [
    "#### Проверка пересечений пользователей\n",
    "\n",
    "Помимо проверки равенства количества пользователей в группах, полезно убедиться в том, что группы независимы. Для этого нужно убедиться, что никто из пользователей случайно не попал в обе группы одновременно."
   ]
  },
  {
   "cell_type": "code",
   "execution_count": 16,
   "metadata": {
    "id": "E72ozN9FOX1u"
   },
   "outputs": [
    {
     "data": {
      "text/plain": [
       "[]"
      ]
     },
     "execution_count": 16,
     "metadata": {},
     "output_type": "execute_result"
    }
   ],
   "source": [
    "# Создаем отдельные датафреймы для каждой группы\n",
    "group_A = sessions_test_part[sessions_test_part.test_group == 'A']\n",
    "group_B = sessions_test_part[sessions_test_part.test_group == 'B']\n",
    "\n",
    "# Создаём список пересечений уникальных пользоваталей между двумя группами\n",
    "list(set(group_A['user_id']) & set(group_B['user_id']))"
   ]
  },
  {
   "cell_type": "markdown",
   "metadata": {},
   "source": [
    "Нет пользователей, которые встречаются одновременнно в двух группах."
   ]
  },
  {
   "cell_type": "markdown",
   "metadata": {
    "id": "6RvkNLrg0eM1"
   },
   "source": [
    "#### Равномерность разделения пользователей по устройствам\n",
    "\n",
    "Также убедимся в том, что пользователи равномерно распределены по всем доступным категориальным переменным — типам устройств и регионам."
   ]
  },
  {
   "cell_type": "code",
   "execution_count": 17,
   "metadata": {},
   "outputs": [
    {
     "data": {
      "text/plain": [
       "Text(0.5, 0.98, 'Распределение пользователей по устройствам в первый день эксперимента')"
      ]
     },
     "execution_count": 17,
     "metadata": {},
     "output_type": "execute_result"
    },
    {
     "data": {
      "image/png": "[encoded data removed]",
      "text/plain": [
       "<Figure size 1080x432 with 2 Axes>"
      ]
     },
     "metadata": {
      "needs_background": "light"
     },
     "output_type": "display_data"
    }
   ],
   "source": [
    "# Создаём датафреймы, содержащие информацию о количестве пользоваталей для каждого типа устройства в первый день\n",
    "group_A_devices = group_A.groupby('device')['user_id'].nunique().reset_index().sort_values(by = 'user_id', ascending = False)\n",
    "group_B_devices = group_B.groupby('device')['user_id'].nunique().reset_index().sort_values(by = 'user_id', ascending = False)\n",
    "\n",
    "# Создаём область для нескольких графиков в одной фигуре\n",
    "fig, (ax1, ax2) = plt.subplots(1, 2, figsize=(15, 6))\n",
    "\n",
    "# Столбчатая диаграмма для группы A\n",
    "ax1.bar(group_A_devices['device'], group_A_devices['user_id'])\n",
    "ax1.set_title('Группа A')\n",
    "\n",
    "# Столбчатая диаграмма для группы B\n",
    "ax2.bar(group_B_devices['device'], group_B_devices['user_id'])\n",
    "ax2.set_title('Группа B')\n",
    "\n",
    "# Добавляем подписи значений на каждый график\n",
    "for i, value in enumerate(group_A_devices['user_id']):\n",
    "    ax1.text(i, value, str(value), ha='center', va='bottom')\n",
    "    \n",
    "for i, value in enumerate(group_B_devices['user_id']):\n",
    "    ax2.text(i, value, str(value), ha='center', va='bottom')\n",
    "\n",
    "# Заголовок всей фигуры\n",
    "plt.suptitle('Распределение пользователей по устройствам в первый день эксперимента')"
   ]
  },
  {
   "cell_type": "markdown",
   "metadata": {
    "id": "gAgmP6vo0eM1"
   },
   "source": [
    "#### Равномерность распределения пользователей по регионам\n",
    "\n",
    "Проверим, что пользователи равномерно распределены по регионам."
   ]
  },
  {
   "cell_type": "code",
   "execution_count": 18,
   "metadata": {
    "id": "3hAq-FG4OdYM"
   },
   "outputs": [
    {
     "data": {
      "text/plain": [
       "Text(0.5, 0.98, 'Распределение пользователей по регионам в первый день эксперимента')"
      ]
     },
     "execution_count": 18,
     "metadata": {},
     "output_type": "execute_result"
    },
    {
     "data": {
      "image/png": "[encoded data removed]",
      "text/plain": [
       "<Figure size 1080x432 with 2 Axes>"
      ]
     },
     "metadata": {},
     "output_type": "display_data"
    }
   ],
   "source": [
    "# Создаём датафреймы, содержащие информацию о количестве пользоваталей для каждого региона в первый день\n",
    "group_A_regions = group_A.groupby('region')['user_id'].nunique().reset_index()\n",
    "group_B_regions = group_B.groupby('region')['user_id'].nunique().reset_index()\n",
    "\n",
    "# Создаём область для нескольких графиков в одной фигуре\n",
    "fig, (ax1, ax2) = plt.subplots(1, 2, figsize=(15, 6))\n",
    "\n",
    "# Круговая диаграмма для группы A\n",
    "ax1.pie(group_A_regions['user_id'], labels = group_A_regions['region'], autopct = '%1.1f%%')\n",
    "ax1.set_title('Группа A')\n",
    "\n",
    "# Круговая диаграмма для группы B\n",
    "ax2.pie(group_B_regions['user_id'], labels = group_B_regions['region'], autopct = '%1.1f%%')\n",
    "ax2.set_title('Группа B')\n",
    "\n",
    "# Заголовок всей фигуры\n",
    "plt.suptitle('Распределение пользователей по регионам в первый день эксперимента')"
   ]
  },
  {
   "cell_type": "markdown",
   "metadata": {
    "id": "X2WSZ-sDrSUi"
   },
   "source": [
    "#### Вывод после проверки A/B-теста"
   ]
  },
  {
   "cell_type": "markdown",
   "metadata": {},
   "source": [
    "Разница в количестве пользователей между группами за первый день: **0.7448%** - по числу пользователей группы распределены практически равномерно.\n",
    "\n",
    "Пересечения пользователей между группами не обнаружено - выборки являются **независимыми**.\n",
    "\n",
    "**Распределения** по категориальным переменным - устройствам и регионам - **схожи**: существенных отклонений не выявлено.\n",
    "\n",
    "Тест проходит **корректно**: группы по объёму почти равны, пересечений пользователей нет, регионы и устройства распределены ровно."
   ]
  },
  {
   "cell_type": "markdown",
   "metadata": {
    "id": "nudRr_BQ0eM2"
   },
   "source": [
    "### Проверка результатов A/B-теста\n"
   ]
  },
  {
   "cell_type": "code",
   "execution_count": 19,
   "metadata": {
    "id": "EqRlwMtKPTir"
   },
   "outputs": [],
   "source": [
    "# Сохраняем данные в датафрейм sessions_test\n",
    "sessions_test = pd.read_csv(\"D:\\sessions_project_test.csv\")\n",
    "\n",
    "# В столбец good_session записываем 0, если просмотрено менее 4 страниц, иначе 1\n",
    "sessions_test['good_session'] = 0\n",
    "sessions_test.loc[sessions_test['page_counter'] >= 4, 'good_session'] = 1"
   ]
  },
  {
   "cell_type": "markdown",
   "metadata": {
    "id": "aeYhrMYy0eM2"
   },
   "source": [
    "#### Проверка корректности результатов теста\n"
   ]
  },
  {
   "cell_type": "markdown",
   "metadata": {},
   "source": [
    "Убедимся, что тест проведён корректно и будут сравниваться две сопоставимые группы. Для проверки равенства двух групп используем **t-test**.\n",
    "\n",
    "**Нулевая гипотеза(Н0)**: Среднее количество уникальных дневных сессий в группе A и группе B не различается.\n",
    "\n",
    "**Альтернативная гипотеза(Н1)**: Среднее количество уникальных дневных сессий в группе A и группе B различается."
   ]
  },
  {
   "cell_type": "code",
   "execution_count": 20,
   "metadata": {},
   "outputs": [
    {
     "name": "stdout",
     "output_type": "stream",
     "text": [
      "p-value теста Стьюдента = 0.94\n",
      "Нулевая гипотеза находит подтверждение - выборочные средние в группах A и B равны\n",
      "Количество уникальных дневных сессий в двух группах не различаются или различия не статистически значимы\n"
     ]
    }
   ],
   "source": [
    "# Оставляем только данные во время эксперимента\n",
    "#sessions_test = sessions_test[(sessions_test['session_date'] >= '2025-10-14') & (sessions_test['session_date'] <= '2025-10-22')]\n",
    "\n",
    "# Рассчитываем количество уникальных сессий по дням для каждой группы\n",
    "metric_a = sessions_test[sessions_test.test_group == 'A'].groupby('session_date')['session_id'].nunique()\n",
    "metric_b = sessions_test[sessions_test.test_group == 'B'].groupby('session_date')['session_id'].nunique()\n",
    "\n",
    "# t-test\n",
    "stat_ttest, p_value_ttest = ttest_ind(\n",
    "        metric_a,\n",
    "        metric_b\n",
    ")\n",
    "\n",
    "# Задаём уровень значимости\n",
    "alpha = 0.05\n",
    "\n",
    "# Интерпретируем полученные значения\n",
    "if p_value_ttest>alpha:\n",
    "    print(f'p-value теста Стьюдента = {round(p_value_ttest, 2)}')\n",
    "    print('Нулевая гипотеза находит подтверждение - выборочные средние в группах A и B равны')\n",
    "    print('Количество уникальных дневных сессий в двух группах не различаются или различия не статистически значимы')\n",
    "else:\n",
    "    print(f'p-value теста Стьюдента ={round(p_value_ttest, 2)}')\n",
    "    print('Нулевая гипотеза не находит подтверждения - выборочные средние в группах A и B не равны')\n",
    "    print('Количество уникальных дневных сессий в двух группах различаются')"
   ]
  },
  {
   "cell_type": "markdown",
   "metadata": {
    "id": "7kwRxzg70eM3"
   },
   "source": [
    "#### Сравнение доли успешных сессий"
   ]
  },
  {
   "cell_type": "code",
   "execution_count": 21,
   "metadata": {
    "id": "Uku-V1CpPRCz"
   },
   "outputs": [
    {
     "name": "stdout",
     "output_type": "stream",
     "text": [
      "Доля успешных сессий в группе A: 30.77%\n",
      "Доля успешных сессий в группе B: 31.83%\n",
      "Доля успешных сессий (>= 4 просмотренных страниц) в группе B  больше значения группы A на 1.06%\n"
     ]
    }
   ],
   "source": [
    "# Рассчитываем процент успешных сессий\n",
    "good_sessions_test = sessions_test.groupby('test_group')['good_session'].mean() * 100\n",
    "\n",
    "print(f'Доля успешных сессий в группе A: {round(good_sessions_test.A, 2)}%')\n",
    "print(f'Доля успешных сессий в группе B: {round(good_sessions_test.B, 2)}%')\n",
    "print(f'Доля успешных сессий (>= 4 просмотренных страниц) в группе B  больше значения группы A на {round(good_sessions_test.B - good_sessions_test.A, 2)}%')"
   ]
  },
  {
   "cell_type": "markdown",
   "metadata": {
    "id": "9fMFuja10eM4"
   },
   "source": [
    "#### Насколько статистически значимо изменение ключевой метрики"
   ]
  },
  {
   "cell_type": "markdown",
   "metadata": {
    "id": "gFvhRGwlPLS0"
   },
   "source": [
    "Используем **z-тест** для определения статистической значимости полученных результатов.\n",
    "\n",
    "**Нулевая гипотеза(Н0)**: Доля успешных сессий в тестовой группе равна доле успешных сессий в контрольной группе.\n",
    "\n",
    "**Альтернативная гипотеза(Н1)**: Доля успешных сессий в тестовой группе значимо превышает долю успешных сессий в контрольной группе."
   ]
  },
  {
   "cell_type": "code",
   "execution_count": 22,
   "metadata": {},
   "outputs": [
    {
     "name": "stdout",
     "output_type": "stream",
     "text": [
      "pvalue=0.0001574739988036123 < 0.05\n",
      "Нулевая гипотеза не находит подтверждения!\n",
      "Доля успешных сессий в тестовой группе значимо превышает долю успешных сессий в контрольной группе\n"
     ]
    }
   ],
   "source": [
    "n_a, n_b = sessions_test[sessions_test.test_group == 'A'].shape[0], sessions_test[sessions_test.test_group == 'B'].shape[0]\n",
    "                                                                                  \n",
    "m_a = sessions_test[(sessions_test.test_group == 'A')&(sessions_test.good_session==1)].shape[0]\n",
    "m_b = sessions_test[(sessions_test.test_group == 'B')&(sessions_test.good_session==1)].shape[0]\n",
    "                                                                                  \n",
    "stat_ztest, p_value_ztest = proportions_ztest(\n",
    "    [m_a, m_b],\n",
    "    [n_a, n_b],\n",
    "    alternative='smaller'\n",
    ")\n",
    "\n",
    "if p_value_ztest > alpha:\n",
    "    print(f'pvalue={p_value_ztest} > {alpha}')\n",
    "    print('Нулевая гипотеза находит подтверждение!')\n",
    "    print('Доля успешных сессий в тестовой группе равна доле успешных сессий в контрольной группе.')\n",
    "else:\n",
    "    print(f'pvalue={p_value_ztest} < {alpha}')\n",
    "    print('Нулевая гипотеза не находит подтверждения!')\n",
    "    print('Доля успешных сессий в тестовой группе значимо превышает долю успешных сессий в контрольной группе')                                                                           "
   ]
  },
  {
   "cell_type": "markdown",
   "metadata": {
    "id": "GnJrkY9Q63zS"
   },
   "source": [
    "####  Вывод по результатам A/B-эксперимента"
   ]
  },
  {
   "cell_type": "markdown",
   "metadata": {},
   "source": [
    "**Цель** A/B-эксперимента: оценка влияния нового алгоритма рекомендаций на количество успешных сессий (более 3 просмотренных страниц).\n",
    "Всего в эксперименте участвовало **82 080 пользователей** (по 41 040 в каждой группе). Длительность эксперимента составила **20 дней**. Распределение по группам прошло корректно и **равномерно**.\n",
    "\n",
    "Доля успешных сессий (>= 4 просмотренных страниц) в группе B  больше значения группы A на 1.06%. Иначе говоря, доля успешных сессий **улучшилась на 3.45%** относительно прежнего уровня.\n",
    "\n",
    "Для сравнения долей использовался z-тест. Полученное значение **p-value = 0.00016**, что значительно меньше уровня значимости 0.05.\n",
    "Нулевая гипотеза отвергается - **доля** успешных сессий в тестовой группе **значимо выше**, чем в контрольной.\n",
    "\n",
    "Новый алгоритм рекомендаций **положительно влияет** на ключевую метрику - доля успешных сессий **выросла** более чем на 1% и эффект статистически значим. **Рекомендуется внедрить** новый алгоритм рекомендаций в приложение."
   ]
  }
 ],
 "metadata": {
  "ExecuteTimeLog": [
   {
    "duration": 1672,
    "start_time": "2025-09-28T15:31:55.999Z"
   },
   {
    "duration": 68,
    "start_time": "2025-09-28T15:36:42.013Z"
   },
   {
    "duration": 500,
    "start_time": "2025-09-28T15:36:51.810Z"
   },
   {
    "duration": 347,
    "start_time": "2025-09-28T15:37:33.929Z"
   },
   {
    "duration": 655,
    "start_time": "2025-09-28T15:39:09.499Z"
   },
   {
    "duration": 673,
    "start_time": "2025-09-28T15:39:22.499Z"
   },
   {
    "duration": 646,
    "start_time": "2025-09-28T15:39:45.476Z"
   },
   {
    "duration": 330,
    "start_time": "2025-09-28T15:40:37.726Z"
   },
   {
    "duration": 825,
    "start_time": "2025-09-28T15:40:44.558Z"
   },
   {
    "duration": 1095,
    "start_time": "2025-09-28T15:49:54.470Z"
   },
   {
    "duration": 463,
    "start_time": "2025-09-28T15:50:18.049Z"
   },
   {
    "duration": 717,
    "start_time": "2025-09-28T15:52:10.418Z"
   },
   {
    "duration": 1208,
    "start_time": "2025-09-28T15:52:11.137Z"
   },
   {
    "duration": 777,
    "start_time": "2025-09-28T15:52:12.347Z"
   },
   {
    "duration": 4,
    "start_time": "2025-09-28T15:52:13.126Z"
   },
   {
    "duration": 669,
    "start_time": "2025-09-28T15:52:13.145Z"
   },
   {
    "duration": 0,
    "start_time": "2025-09-28T15:52:13.816Z"
   },
   {
    "duration": 409,
    "start_time": "2025-09-28T15:55:04.453Z"
   },
   {
    "duration": 12,
    "start_time": "2025-09-28T16:00:27.019Z"
   },
   {
    "duration": 16022,
    "start_time": "2025-09-28T16:00:48.605Z"
   },
   {
    "duration": 14957,
    "start_time": "2025-09-28T16:01:51.645Z"
   },
   {
    "duration": 37,
    "start_time": "2025-09-28T16:03:40.377Z"
   },
   {
    "duration": 234,
    "start_time": "2025-09-28T16:05:56.730Z"
   },
   {
    "duration": 745,
    "start_time": "2025-09-28T16:06:23.295Z"
   },
   {
    "duration": 771,
    "start_time": "2025-09-28T16:06:47.244Z"
   },
   {
    "duration": 799,
    "start_time": "2025-09-28T16:06:52.745Z"
   },
   {
    "duration": 777,
    "start_time": "2025-09-28T16:11:05.081Z"
   },
   {
    "duration": 262,
    "start_time": "2025-09-28T16:11:37.629Z"
   },
   {
    "duration": 266,
    "start_time": "2025-09-28T16:11:40.536Z"
   },
   {
    "duration": 804,
    "start_time": "2025-09-28T16:12:06.469Z"
   },
   {
    "duration": 850,
    "start_time": "2025-09-28T16:12:47.660Z"
   },
   {
    "duration": 885,
    "start_time": "2025-09-28T16:14:03.166Z"
   },
   {
    "duration": 878,
    "start_time": "2025-09-28T16:15:13.679Z"
   },
   {
    "duration": 914,
    "start_time": "2025-09-28T16:15:40.691Z"
   },
   {
    "duration": 922,
    "start_time": "2025-09-28T16:15:51.531Z"
   },
   {
    "duration": 894,
    "start_time": "2025-09-28T16:17:20.398Z"
   },
   {
    "duration": 912,
    "start_time": "2025-09-28T16:20:15.403Z"
   },
   {
    "duration": 926,
    "start_time": "2025-09-28T16:21:03.297Z"
   },
   {
    "duration": 943,
    "start_time": "2025-09-28T16:22:21.646Z"
   },
   {
    "duration": 189,
    "start_time": "2025-09-28T16:24:49.707Z"
   },
   {
    "duration": 6,
    "start_time": "2025-09-28T16:25:16.867Z"
   },
   {
    "duration": 185,
    "start_time": "2025-09-28T16:27:46.419Z"
   },
   {
    "duration": 171,
    "start_time": "2025-09-28T16:27:57.951Z"
   },
   {
    "duration": 184,
    "start_time": "2025-09-28T16:28:34.110Z"
   },
   {
    "duration": 229,
    "start_time": "2025-09-28T16:36:04.626Z"
   },
   {
    "duration": 202,
    "start_time": "2025-09-28T16:36:17.644Z"
   },
   {
    "duration": 836,
    "start_time": "2025-09-28T16:37:02.698Z"
   },
   {
    "duration": 816,
    "start_time": "2025-09-28T16:38:50.470Z"
   },
   {
    "duration": 253,
    "start_time": "2025-09-28T16:42:48.582Z"
   },
   {
    "duration": 349,
    "start_time": "2025-09-28T16:44:16.475Z"
   },
   {
    "duration": 368,
    "start_time": "2025-09-28T16:44:28.136Z"
   },
   {
    "duration": 226,
    "start_time": "2025-09-28T16:47:15.732Z"
   },
   {
    "duration": 248,
    "start_time": "2025-09-28T16:47:35.355Z"
   },
   {
    "duration": 201,
    "start_time": "2025-09-28T16:48:04.009Z"
   },
   {
    "duration": 181,
    "start_time": "2025-09-28T16:48:24.201Z"
   },
   {
    "duration": 190,
    "start_time": "2025-09-28T16:49:06.331Z"
   },
   {
    "duration": 148,
    "start_time": "2025-09-28T16:49:24.746Z"
   },
   {
    "duration": 168,
    "start_time": "2025-09-28T16:49:42.242Z"
   },
   {
    "duration": 160,
    "start_time": "2025-09-28T16:49:48.711Z"
   },
   {
    "duration": 159,
    "start_time": "2025-09-28T16:49:53.369Z"
   },
   {
    "duration": 163,
    "start_time": "2025-09-28T16:49:57.294Z"
   },
   {
    "duration": 169,
    "start_time": "2025-09-28T16:50:01.739Z"
   },
   {
    "duration": 163,
    "start_time": "2025-09-28T16:50:13.262Z"
   },
   {
    "duration": 143,
    "start_time": "2025-09-28T16:51:14.320Z"
   },
   {
    "duration": 175,
    "start_time": "2025-09-28T16:53:20.489Z"
   },
   {
    "duration": 189,
    "start_time": "2025-09-28T16:53:39.553Z"
   },
   {
    "duration": 41,
    "start_time": "2025-09-28T17:04:09.998Z"
   },
   {
    "duration": 10,
    "start_time": "2025-09-28T17:05:26.771Z"
   },
   {
    "duration": 25,
    "start_time": "2025-09-28T17:05:38.241Z"
   },
   {
    "duration": 10,
    "start_time": "2025-09-28T17:08:48.046Z"
   },
   {
    "duration": 668,
    "start_time": "2025-09-28T17:10:11.311Z"
   },
   {
    "duration": 606,
    "start_time": "2025-09-28T17:12:53.958Z"
   },
   {
    "duration": 11,
    "start_time": "2025-09-28T17:18:51.214Z"
   },
   {
    "duration": 16,
    "start_time": "2025-09-28T17:19:28.211Z"
   },
   {
    "duration": 17,
    "start_time": "2025-09-28T17:21:40.218Z"
   },
   {
    "duration": 185,
    "start_time": "2025-09-28T17:29:46.035Z"
   },
   {
    "duration": 160,
    "start_time": "2025-09-28T17:32:19.734Z"
   },
   {
    "duration": 162,
    "start_time": "2025-09-28T17:32:50.006Z"
   },
   {
    "duration": 22,
    "start_time": "2025-09-28T17:38:20.761Z"
   },
   {
    "duration": 17,
    "start_time": "2025-09-28T17:39:23.761Z"
   },
   {
    "duration": 7,
    "start_time": "2025-09-28T17:40:53.995Z"
   },
   {
    "duration": 6,
    "start_time": "2025-09-28T17:42:09.490Z"
   },
   {
    "duration": 6,
    "start_time": "2025-09-28T17:43:19.662Z"
   },
   {
    "duration": 7,
    "start_time": "2025-09-28T17:43:42.602Z"
   },
   {
    "duration": 5,
    "start_time": "2025-09-28T17:43:55.662Z"
   },
   {
    "duration": 7,
    "start_time": "2025-09-28T17:44:03.573Z"
   },
   {
    "duration": 8,
    "start_time": "2025-09-28T17:44:43.784Z"
   },
   {
    "duration": 9,
    "start_time": "2025-09-28T17:44:49.464Z"
   },
   {
    "duration": 7,
    "start_time": "2025-09-28T17:51:44.332Z"
   },
   {
    "duration": 17,
    "start_time": "2025-09-28T18:06:19.091Z"
   },
   {
    "duration": 12,
    "start_time": "2025-09-28T18:06:59.374Z"
   },
   {
    "duration": 10,
    "start_time": "2025-09-28T18:07:27.141Z"
   },
   {
    "duration": 11,
    "start_time": "2025-09-28T18:07:33.081Z"
   },
   {
    "duration": 7,
    "start_time": "2025-09-28T18:08:03.971Z"
   },
   {
    "duration": 15,
    "start_time": "2025-09-28T18:09:20.178Z"
   },
   {
    "duration": 6,
    "start_time": "2025-09-28T18:11:22.622Z"
   },
   {
    "duration": 73,
    "start_time": "2025-09-28T18:12:12.643Z"
   },
   {
    "duration": 74,
    "start_time": "2025-09-28T18:14:30.878Z"
   },
   {
    "duration": 62,
    "start_time": "2025-09-28T18:14:40.828Z"
   },
   {
    "duration": 68,
    "start_time": "2025-09-28T18:15:03.653Z"
   },
   {
    "duration": 10,
    "start_time": "2025-09-28T18:15:19.982Z"
   },
   {
    "duration": 68,
    "start_time": "2025-09-28T18:15:26.153Z"
   },
   {
    "duration": 11,
    "start_time": "2025-09-28T18:15:36.510Z"
   },
   {
    "duration": 84,
    "start_time": "2025-09-28T18:16:57.252Z"
   },
   {
    "duration": 10,
    "start_time": "2025-09-28T18:23:22.444Z"
   },
   {
    "duration": 20,
    "start_time": "2025-09-28T18:23:39.254Z"
   },
   {
    "duration": 8,
    "start_time": "2025-09-28T18:24:12.769Z"
   },
   {
    "duration": 8,
    "start_time": "2025-09-28T18:24:22.579Z"
   },
   {
    "duration": 9,
    "start_time": "2025-09-28T18:25:04.121Z"
   },
   {
    "duration": 8,
    "start_time": "2025-09-28T18:27:28.860Z"
   },
   {
    "duration": 17,
    "start_time": "2025-09-28T18:27:32.575Z"
   },
   {
    "duration": 17,
    "start_time": "2025-09-28T18:28:54.879Z"
   },
   {
    "duration": 16,
    "start_time": "2025-09-28T18:30:52.311Z"
   },
   {
    "duration": 7,
    "start_time": "2025-09-28T18:31:11.351Z"
   },
   {
    "duration": 7,
    "start_time": "2025-09-28T18:32:16.601Z"
   },
   {
    "duration": 9,
    "start_time": "2025-09-28T18:32:21.931Z"
   },
   {
    "duration": 116,
    "start_time": "2025-09-28T18:32:46.779Z"
   },
   {
    "duration": 91,
    "start_time": "2025-09-28T18:33:29.715Z"
   },
   {
    "duration": 10,
    "start_time": "2025-09-28T18:33:44.992Z"
   },
   {
    "duration": 146,
    "start_time": "2025-09-28T18:33:47.014Z"
   },
   {
    "duration": 203,
    "start_time": "2025-09-28T18:36:00.977Z"
   },
   {
    "duration": 218,
    "start_time": "2025-09-28T18:37:02.236Z"
   },
   {
    "duration": 225,
    "start_time": "2025-09-28T18:39:09.799Z"
   },
   {
    "duration": 215,
    "start_time": "2025-09-28T18:41:21.536Z"
   },
   {
    "duration": 6,
    "start_time": "2025-09-28T18:42:29.912Z"
   },
   {
    "duration": 7,
    "start_time": "2025-09-28T18:42:43.092Z"
   },
   {
    "duration": 223,
    "start_time": "2025-09-28T18:43:28.482Z"
   },
   {
    "duration": 223,
    "start_time": "2025-09-28T18:43:36.567Z"
   },
   {
    "duration": 202,
    "start_time": "2025-09-28T18:48:46.563Z"
   },
   {
    "duration": 231,
    "start_time": "2025-09-28T18:48:59.536Z"
   },
   {
    "duration": 228,
    "start_time": "2025-09-28T18:49:20.423Z"
   },
   {
    "duration": 13,
    "start_time": "2025-09-28T18:50:31.892Z"
   },
   {
    "duration": 238,
    "start_time": "2025-09-28T18:50:46.785Z"
   },
   {
    "duration": 233,
    "start_time": "2025-09-28T18:51:03.362Z"
   },
   {
    "duration": 255,
    "start_time": "2025-09-28T18:53:35.001Z"
   },
   {
    "duration": 268,
    "start_time": "2025-09-28T18:53:44.830Z"
   },
   {
    "duration": 239,
    "start_time": "2025-09-28T18:54:17.161Z"
   },
   {
    "duration": 257,
    "start_time": "2025-09-28T18:54:25.687Z"
   },
   {
    "duration": 267,
    "start_time": "2025-09-28T18:54:34.759Z"
   },
   {
    "duration": 258,
    "start_time": "2025-09-28T18:54:53.354Z"
   },
   {
    "duration": 268,
    "start_time": "2025-09-28T18:55:00.149Z"
   },
   {
    "duration": 987,
    "start_time": "2025-09-28T18:58:22.370Z"
   },
   {
    "duration": 182,
    "start_time": "2025-09-28T18:58:44.396Z"
   },
   {
    "duration": 277,
    "start_time": "2025-09-28T19:06:26.756Z"
   },
   {
    "duration": 20,
    "start_time": "2025-09-28T19:07:41.676Z"
   },
   {
    "duration": 12,
    "start_time": "2025-09-28T19:07:48.398Z"
   },
   {
    "duration": 47,
    "start_time": "2025-09-28T19:08:56.176Z"
   },
   {
    "duration": 22,
    "start_time": "2025-09-28T19:14:22.239Z"
   },
   {
    "duration": 39,
    "start_time": "2025-09-28T19:17:14.340Z"
   },
   {
    "duration": 47,
    "start_time": "2025-09-28T19:18:52.148Z"
   },
   {
    "duration": 3,
    "start_time": "2025-09-28T19:19:04.402Z"
   },
   {
    "duration": 3,
    "start_time": "2025-09-28T19:19:08.946Z"
   },
   {
    "duration": 43,
    "start_time": "2025-09-28T19:19:17.511Z"
   },
   {
    "duration": 51,
    "start_time": "2025-09-28T19:22:30.567Z"
   },
   {
    "duration": 10,
    "start_time": "2025-09-28T19:26:16.219Z"
   },
   {
    "duration": 8,
    "start_time": "2025-09-28T19:28:14.227Z"
   },
   {
    "duration": 12,
    "start_time": "2025-09-28T19:28:55.733Z"
   },
   {
    "duration": 51,
    "start_time": "2025-09-28T19:29:54.902Z"
   },
   {
    "duration": 55,
    "start_time": "2025-09-28T19:30:38.397Z"
   },
   {
    "duration": 9,
    "start_time": "2025-09-28T19:30:42.284Z"
   },
   {
    "duration": 8,
    "start_time": "2025-09-28T19:30:59.681Z"
   },
   {
    "duration": 9,
    "start_time": "2025-09-28T19:32:12.411Z"
   },
   {
    "duration": 36,
    "start_time": "2025-09-28T19:33:30.678Z"
   },
   {
    "duration": 8,
    "start_time": "2025-09-28T19:33:36.822Z"
   },
   {
    "duration": 1219,
    "start_time": "2025-09-28T19:33:46.360Z"
   },
   {
    "duration": 1288,
    "start_time": "2025-09-28T19:33:47.582Z"
   },
   {
    "duration": 432,
    "start_time": "2025-09-28T19:33:48.873Z"
   },
   {
    "duration": 421,
    "start_time": "2025-09-28T19:33:49.308Z"
   },
   {
    "duration": 1090,
    "start_time": "2025-09-28T19:33:49.731Z"
   },
   {
    "duration": 885,
    "start_time": "2025-09-28T19:33:50.823Z"
   },
   {
    "duration": 274,
    "start_time": "2025-09-28T19:33:51.710Z"
   },
   {
    "duration": 221,
    "start_time": "2025-09-28T19:33:51.986Z"
   },
   {
    "duration": 12,
    "start_time": "2025-09-28T19:33:52.209Z"
   },
   {
    "duration": 742,
    "start_time": "2025-09-28T19:33:52.240Z"
   },
   {
    "duration": 29,
    "start_time": "2025-09-28T19:33:52.984Z"
   },
   {
    "duration": 203,
    "start_time": "2025-09-28T19:33:53.015Z"
   },
   {
    "duration": 31,
    "start_time": "2025-09-28T19:33:53.220Z"
   },
   {
    "duration": 14,
    "start_time": "2025-09-28T19:33:53.257Z"
   },
   {
    "duration": 28,
    "start_time": "2025-09-28T19:33:53.273Z"
   },
   {
    "duration": 93,
    "start_time": "2025-09-28T19:33:53.303Z"
   },
   {
    "duration": 8,
    "start_time": "2025-09-28T19:33:53.398Z"
   },
   {
    "duration": 302,
    "start_time": "2025-09-28T19:33:53.408Z"
   },
   {
    "duration": 217,
    "start_time": "2025-09-28T19:33:53.712Z"
   },
   {
    "duration": 282,
    "start_time": "2025-09-28T19:33:53.930Z"
   },
   {
    "duration": 13,
    "start_time": "2025-09-28T19:33:54.214Z"
   },
   {
    "duration": 96,
    "start_time": "2025-09-28T19:33:54.228Z"
   },
   {
    "duration": 22,
    "start_time": "2025-09-28T19:33:54.326Z"
   },
   {
    "duration": 1212,
    "start_time": "2025-09-28T19:34:18.923Z"
   },
   {
    "duration": 1373,
    "start_time": "2025-09-28T19:34:20.141Z"
   },
   {
    "duration": 390,
    "start_time": "2025-09-28T19:34:21.516Z"
   },
   {
    "duration": 453,
    "start_time": "2025-09-28T19:34:21.908Z"
   },
   {
    "duration": 1037,
    "start_time": "2025-09-28T19:34:22.364Z"
   },
   {
    "duration": 867,
    "start_time": "2025-09-28T19:34:23.403Z"
   },
   {
    "duration": 253,
    "start_time": "2025-09-28T19:34:24.272Z"
   },
   {
    "duration": 231,
    "start_time": "2025-09-28T19:34:24.526Z"
   },
   {
    "duration": 12,
    "start_time": "2025-09-28T19:34:24.768Z"
   },
   {
    "duration": 728,
    "start_time": "2025-09-28T19:34:24.784Z"
   },
   {
    "duration": 38,
    "start_time": "2025-09-28T19:34:25.513Z"
   },
   {
    "duration": 175,
    "start_time": "2025-09-28T19:34:25.557Z"
   },
   {
    "duration": 31,
    "start_time": "2025-09-28T19:34:25.734Z"
   },
   {
    "duration": 45,
    "start_time": "2025-09-28T19:34:25.768Z"
   },
   {
    "duration": 13,
    "start_time": "2025-09-28T19:34:25.815Z"
   },
   {
    "duration": 105,
    "start_time": "2025-09-28T19:34:25.830Z"
   },
   {
    "duration": 19,
    "start_time": "2025-09-28T19:34:25.936Z"
   },
   {
    "duration": 316,
    "start_time": "2025-09-28T19:34:25.958Z"
   },
   {
    "duration": 222,
    "start_time": "2025-09-28T19:34:26.277Z"
   },
   {
    "duration": 280,
    "start_time": "2025-09-28T19:34:26.501Z"
   },
   {
    "duration": 13,
    "start_time": "2025-09-28T19:34:26.784Z"
   },
   {
    "duration": 204,
    "start_time": "2025-09-28T19:34:26.798Z"
   },
   {
    "duration": 8,
    "start_time": "2025-09-28T19:34:27.004Z"
   },
   {
    "duration": 175,
    "start_time": "2025-09-28T19:43:54.021Z"
   },
   {
    "duration": 1239,
    "start_time": "2025-09-28T19:44:21.287Z"
   },
   {
    "duration": 1228,
    "start_time": "2025-09-28T19:44:22.528Z"
   },
   {
    "duration": 376,
    "start_time": "2025-09-28T19:44:23.758Z"
   },
   {
    "duration": 397,
    "start_time": "2025-09-28T19:44:24.139Z"
   },
   {
    "duration": 994,
    "start_time": "2025-09-28T19:44:24.539Z"
   },
   {
    "duration": 821,
    "start_time": "2025-09-28T19:44:25.535Z"
   },
   {
    "duration": 271,
    "start_time": "2025-09-28T19:44:26.357Z"
   },
   {
    "duration": 228,
    "start_time": "2025-09-28T19:44:26.631Z"
   },
   {
    "duration": 10,
    "start_time": "2025-09-28T19:44:26.861Z"
   },
   {
    "duration": 679,
    "start_time": "2025-09-28T19:44:26.874Z"
   },
   {
    "duration": 22,
    "start_time": "2025-09-28T19:44:27.555Z"
   },
   {
    "duration": 206,
    "start_time": "2025-09-28T19:44:27.579Z"
   },
   {
    "duration": 22,
    "start_time": "2025-09-28T19:44:27.788Z"
   },
   {
    "duration": 55,
    "start_time": "2025-09-28T19:44:27.812Z"
   },
   {
    "duration": 25,
    "start_time": "2025-09-28T19:44:27.869Z"
   },
   {
    "duration": 85,
    "start_time": "2025-09-28T19:44:27.897Z"
   },
   {
    "duration": 9,
    "start_time": "2025-09-28T19:44:27.985Z"
   },
   {
    "duration": 370,
    "start_time": "2025-09-28T19:44:27.997Z"
   },
   {
    "duration": 200,
    "start_time": "2025-09-28T19:44:28.369Z"
   },
   {
    "duration": 278,
    "start_time": "2025-09-28T19:44:28.571Z"
   },
   {
    "duration": 13,
    "start_time": "2025-09-28T19:44:28.852Z"
   },
   {
    "duration": 137,
    "start_time": "2025-09-28T19:44:28.867Z"
   },
   {
    "duration": 11,
    "start_time": "2025-09-28T19:44:29.006Z"
   },
   {
    "duration": 1187,
    "start_time": "2025-09-28T19:50:42.945Z"
   },
   {
    "duration": 1194,
    "start_time": "2025-09-28T19:50:44.134Z"
   },
   {
    "duration": 366,
    "start_time": "2025-09-28T19:50:45.330Z"
   },
   {
    "duration": 399,
    "start_time": "2025-09-28T19:50:45.698Z"
   },
   {
    "duration": 1002,
    "start_time": "2025-09-28T19:50:46.099Z"
   },
   {
    "duration": 813,
    "start_time": "2025-09-28T19:50:47.103Z"
   },
   {
    "duration": 255,
    "start_time": "2025-09-28T19:50:47.918Z"
   },
   {
    "duration": 198,
    "start_time": "2025-09-28T19:50:48.174Z"
   },
   {
    "duration": 10,
    "start_time": "2025-09-28T19:50:48.374Z"
   },
   {
    "duration": 632,
    "start_time": "2025-09-28T19:50:48.388Z"
   },
   {
    "duration": 31,
    "start_time": "2025-09-28T19:50:49.022Z"
   },
   {
    "duration": 205,
    "start_time": "2025-09-28T19:50:49.055Z"
   },
   {
    "duration": 22,
    "start_time": "2025-09-28T19:50:49.262Z"
   },
   {
    "duration": 53,
    "start_time": "2025-09-28T19:50:49.286Z"
   },
   {
    "duration": 7,
    "start_time": "2025-09-28T19:50:49.340Z"
   },
   {
    "duration": 99,
    "start_time": "2025-09-28T19:50:49.349Z"
   },
   {
    "duration": 8,
    "start_time": "2025-09-28T19:50:49.450Z"
   },
   {
    "duration": 280,
    "start_time": "2025-09-28T19:50:49.460Z"
   },
   {
    "duration": 182,
    "start_time": "2025-09-28T19:50:49.742Z"
   },
   {
    "duration": 260,
    "start_time": "2025-09-28T19:50:49.927Z"
   },
   {
    "duration": 13,
    "start_time": "2025-09-28T19:50:50.188Z"
   },
   {
    "duration": 96,
    "start_time": "2025-09-28T19:50:50.202Z"
   },
   {
    "duration": 13,
    "start_time": "2025-09-28T19:50:50.300Z"
   },
   {
    "duration": 266,
    "start_time": "2025-09-28T19:51:36.803Z"
   },
   {
    "duration": 73,
    "start_time": "2025-09-28T19:51:40.846Z"
   },
   {
    "duration": 14,
    "start_time": "2025-09-28T19:51:44.046Z"
   },
   {
    "duration": 15,
    "start_time": "2025-09-28T19:51:56.092Z"
   },
   {
    "duration": 14,
    "start_time": "2025-09-28T19:57:19.585Z"
   },
   {
    "duration": 106,
    "start_time": "2025-09-28T19:58:09.376Z"
   },
   {
    "duration": 4,
    "start_time": "2025-09-28T19:58:16.857Z"
   },
   {
    "duration": 5,
    "start_time": "2025-09-28T19:58:47.146Z"
   },
   {
    "duration": 6,
    "start_time": "2025-09-28T20:00:23.806Z"
   },
   {
    "duration": 71,
    "start_time": "2025-09-28T20:04:05.050Z"
   },
   {
    "duration": 55,
    "start_time": "2025-09-28T20:05:16.440Z"
   },
   {
    "duration": 61,
    "start_time": "2025-09-28T20:06:16.022Z"
   },
   {
    "duration": 61,
    "start_time": "2025-09-28T20:07:01.236Z"
   },
   {
    "duration": 3,
    "start_time": "2025-09-28T20:07:23.013Z"
   },
   {
    "duration": 67,
    "start_time": "2025-09-28T20:07:33.682Z"
   },
   {
    "duration": 55,
    "start_time": "2025-09-28T20:08:53.485Z"
   },
   {
    "duration": 57,
    "start_time": "2025-09-28T20:09:19.446Z"
   },
   {
    "duration": 6,
    "start_time": "2025-09-28T20:28:00.377Z"
   },
   {
    "duration": 62,
    "start_time": "2025-09-28T20:46:51.314Z"
   },
   {
    "duration": 1148,
    "start_time": "2025-09-28T21:02:39.702Z"
   },
   {
    "duration": 1227,
    "start_time": "2025-09-28T21:02:40.852Z"
   },
   {
    "duration": 362,
    "start_time": "2025-09-28T21:02:42.081Z"
   },
   {
    "duration": 397,
    "start_time": "2025-09-28T21:02:42.445Z"
   },
   {
    "duration": 1005,
    "start_time": "2025-09-28T21:02:42.844Z"
   },
   {
    "duration": 822,
    "start_time": "2025-09-28T21:02:43.851Z"
   },
   {
    "duration": 280,
    "start_time": "2025-09-28T21:02:44.675Z"
   },
   {
    "duration": 206,
    "start_time": "2025-09-28T21:02:44.956Z"
   },
   {
    "duration": 10,
    "start_time": "2025-09-28T21:02:45.164Z"
   },
   {
    "duration": 652,
    "start_time": "2025-09-28T21:02:45.176Z"
   },
   {
    "duration": 16,
    "start_time": "2025-09-28T21:02:45.829Z"
   },
   {
    "duration": 201,
    "start_time": "2025-09-28T21:02:45.846Z"
   },
   {
    "duration": 22,
    "start_time": "2025-09-28T21:02:46.049Z"
   },
   {
    "duration": 7,
    "start_time": "2025-09-28T21:02:46.074Z"
   },
   {
    "duration": 112,
    "start_time": "2025-09-28T21:02:46.082Z"
   },
   {
    "duration": 9,
    "start_time": "2025-09-28T21:02:46.195Z"
   },
   {
    "duration": 276,
    "start_time": "2025-09-28T21:02:46.206Z"
   },
   {
    "duration": 196,
    "start_time": "2025-09-28T21:02:46.484Z"
   },
   {
    "duration": 269,
    "start_time": "2025-09-28T21:02:46.683Z"
   },
   {
    "duration": 72,
    "start_time": "2025-09-28T21:02:46.954Z"
   },
   {
    "duration": 24,
    "start_time": "2025-09-28T21:02:47.027Z"
   },
   {
    "duration": 99,
    "start_time": "2025-09-28T21:02:47.052Z"
   },
   {
    "duration": 268,
    "start_time": "2025-09-28T21:03:57.091Z"
   },
   {
    "duration": 1486,
    "start_time": "2025-09-28T21:25:10.828Z"
   },
   {
    "duration": 1726,
    "start_time": "2025-09-28T21:25:12.317Z"
   },
   {
    "duration": 423,
    "start_time": "2025-09-28T21:25:14.045Z"
   },
   {
    "duration": 453,
    "start_time": "2025-09-28T21:25:14.470Z"
   },
   {
    "duration": 1071,
    "start_time": "2025-09-28T21:25:14.928Z"
   },
   {
    "duration": 898,
    "start_time": "2025-09-28T21:25:16.001Z"
   },
   {
    "duration": 263,
    "start_time": "2025-09-28T21:25:16.901Z"
   },
   {
    "duration": 235,
    "start_time": "2025-09-28T21:25:17.166Z"
   },
   {
    "duration": 15,
    "start_time": "2025-09-28T21:25:17.407Z"
   },
   {
    "duration": 717,
    "start_time": "2025-09-28T21:25:17.425Z"
   },
   {
    "duration": 17,
    "start_time": "2025-09-28T21:25:18.144Z"
   },
   {
    "duration": 309,
    "start_time": "2025-09-28T21:25:18.163Z"
   },
   {
    "duration": 23,
    "start_time": "2025-09-28T21:25:18.474Z"
   },
   {
    "duration": 11,
    "start_time": "2025-09-28T21:25:18.500Z"
   },
   {
    "duration": 100,
    "start_time": "2025-09-28T21:25:18.516Z"
   },
   {
    "duration": 20,
    "start_time": "2025-09-28T21:25:18.619Z"
   },
   {
    "duration": 333,
    "start_time": "2025-09-28T21:25:18.641Z"
   },
   {
    "duration": 216,
    "start_time": "2025-09-28T21:25:18.976Z"
   },
   {
    "duration": 289,
    "start_time": "2025-09-28T21:25:19.193Z"
   },
   {
    "duration": 90,
    "start_time": "2025-09-28T21:25:19.484Z"
   },
   {
    "duration": 14,
    "start_time": "2025-09-28T21:25:19.576Z"
   },
   {
    "duration": 85,
    "start_time": "2025-09-28T21:25:19.592Z"
   },
   {
    "duration": 1005,
    "start_time": "2025-09-29T04:33:56.233Z"
   },
   {
    "duration": 1411,
    "start_time": "2025-09-29T04:34:08.106Z"
   },
   {
    "duration": 1182,
    "start_time": "2025-09-29T04:34:09.519Z"
   },
   {
    "duration": 376,
    "start_time": "2025-09-29T04:34:10.703Z"
   },
   {
    "duration": 401,
    "start_time": "2025-09-29T04:34:11.081Z"
   },
   {
    "duration": 1044,
    "start_time": "2025-09-29T04:34:11.485Z"
   },
   {
    "duration": 867,
    "start_time": "2025-09-29T04:34:12.531Z"
   },
   {
    "duration": 257,
    "start_time": "2025-09-29T04:34:13.400Z"
   },
   {
    "duration": 223,
    "start_time": "2025-09-29T04:34:13.660Z"
   },
   {
    "duration": 11,
    "start_time": "2025-09-29T04:34:13.885Z"
   },
   {
    "duration": 678,
    "start_time": "2025-09-29T04:34:13.898Z"
   },
   {
    "duration": 124,
    "start_time": "2025-09-29T04:34:14.578Z"
   },
   {
    "duration": 0,
    "start_time": "2025-09-29T04:34:14.704Z"
   },
   {
    "duration": 0,
    "start_time": "2025-09-29T04:34:14.706Z"
   },
   {
    "duration": 0,
    "start_time": "2025-09-29T04:34:14.716Z"
   },
   {
    "duration": 0,
    "start_time": "2025-09-29T04:34:14.717Z"
   },
   {
    "duration": 0,
    "start_time": "2025-09-29T04:34:14.718Z"
   },
   {
    "duration": 0,
    "start_time": "2025-09-29T04:34:14.719Z"
   },
   {
    "duration": 0,
    "start_time": "2025-09-29T04:34:14.720Z"
   },
   {
    "duration": 0,
    "start_time": "2025-09-29T04:34:14.721Z"
   },
   {
    "duration": 0,
    "start_time": "2025-09-29T04:34:14.722Z"
   },
   {
    "duration": 0,
    "start_time": "2025-09-29T04:34:14.723Z"
   },
   {
    "duration": 0,
    "start_time": "2025-09-29T04:34:14.724Z"
   },
   {
    "duration": 11,
    "start_time": "2025-09-29T04:35:24.760Z"
   },
   {
    "duration": 17,
    "start_time": "2025-09-29T04:35:47.746Z"
   },
   {
    "duration": 168,
    "start_time": "2025-09-29T04:36:01.933Z"
   }
  ],
  "colab": {
   "provenance": []
  },
  "kernelspec": {
   "display_name": "Python 3 (ipykernel)",
   "language": "python",
   "name": "python3"
  },
  "language_info": {
   "codemirror_mode": {
    "name": "ipython",
    "version": 3
   },
   "file_extension": ".py",
   "mimetype": "text/x-python",
   "name": "python",
   "nbconvert_exporter": "python",
   "pygments_lexer": "ipython3",
   "version": "3.9.7"
  },
  "toc": {
   "base_numbering": 1,
   "nav_menu": {},
   "number_sections": true,
   "sideBar": true,
   "skip_h1_title": true,
   "title_cell": "Table of Contents",
   "title_sidebar": "Contents",
   "toc_cell": false,
   "toc_position": {},
   "toc_section_display": true,
   "toc_window_display": false
  }
 },
 "nbformat": 4,
 "nbformat_minor": 1
}
